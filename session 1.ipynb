{
 "cells": [
  {
   "cell_type": "markdown",
   "id": "33b6df16",
   "metadata": {},
   "source": [
    "# codes_session 1"
   ]
  },
  {
   "cell_type": "code",
   "execution_count": 2,
   "id": "619e714a",
   "metadata": {},
   "outputs": [
    {
     "data": {
      "text/plain": [
       "9"
      ]
     },
     "execution_count": 2,
     "metadata": {},
     "output_type": "execute_result"
    }
   ],
   "source": [
    "3+6"
   ]
  },
  {
   "cell_type": "code",
   "execution_count": 3,
   "id": "332e945b",
   "metadata": {},
   "outputs": [
    {
     "name": "stdout",
     "output_type": "stream",
     "text": [
      "hello world\n"
     ]
    }
   ],
   "source": [
    "#print hello world \n",
    "print(\"hello world\")"
   ]
  },
  {
   "cell_type": "code",
   "execution_count": 4,
   "id": "77117603",
   "metadata": {},
   "outputs": [
    {
     "name": "stdout",
     "output_type": "stream",
     "text": [
      "value_x =  30\n"
     ]
    }
   ],
   "source": [
    "x=30\n",
    "print(\"value_x = \",x)"
   ]
  },
  {
   "cell_type": "code",
   "execution_count": 7,
   "id": "cbfa67c7",
   "metadata": {},
   "outputs": [
    {
     "name": "stdout",
     "output_type": "stream",
     "text": [
      "hello**world\n"
     ]
    }
   ],
   "source": [
    "print(\"hello\",end=\"**\")\n",
    "print(\"world\")"
   ]
  },
  {
   "cell_type": "code",
   "execution_count": 9,
   "id": "fcadfcc3",
   "metadata": {},
   "outputs": [
    {
     "name": "stdout",
     "output_type": "stream",
     "text": [
      "hello world\n"
     ]
    }
   ],
   "source": [
    "print(\"hello\",end=\" \")\n",
    "print(\"world\")"
   ]
  },
  {
   "cell_type": "code",
   "execution_count": 12,
   "id": "fae7da2f",
   "metadata": {},
   "outputs": [
    {
     "name": "stdout",
     "output_type": "stream",
     "text": [
      "[50]\n",
      "[50, 12]\n"
     ]
    }
   ],
   "source": [
    "x_list= [50]\n",
    "print(x_list)\n",
    "x_list.append(12)\n",
    "print(x_list)\n"
   ]
  },
  {
   "cell_type": "code",
   "execution_count": 18,
   "id": "6b3cd856",
   "metadata": {},
   "outputs": [
    {
     "data": {
      "text/plain": [
       "complex"
      ]
     },
     "execution_count": 18,
     "metadata": {},
     "output_type": "execute_result"
    }
   ],
   "source": [
    "x_int_value=3\n",
    "y_float_value=4.2\n",
    "type (x_int_value)\n",
    "type(y_float_value)\n",
    "z_complex_value = complex(15,4)\n",
    "z_complex_value\n",
    "type(z_complex_value)"
   ]
  },
  {
   "cell_type": "code",
   "execution_count": 19,
   "id": "4a0f5242",
   "metadata": {},
   "outputs": [
    {
     "name": "stdout",
     "output_type": "stream",
     "text": [
      "4.2\n"
     ]
    },
    {
     "data": {
      "text/plain": [
       "4"
      ]
     },
     "execution_count": 19,
     "metadata": {},
     "output_type": "execute_result"
    }
   ],
   "source": [
    "value=4.2\n",
    "print(value)\n",
    "int(value)"
   ]
  },
  {
   "cell_type": "code",
   "execution_count": 20,
   "id": "59bc61cb",
   "metadata": {},
   "outputs": [
    {
     "name": "stdout",
     "output_type": "stream",
     "text": [
      "4\n"
     ]
    },
    {
     "data": {
      "text/plain": [
       "4.0"
      ]
     },
     "execution_count": 20,
     "metadata": {},
     "output_type": "execute_result"
    }
   ],
   "source": [
    "value=4\n",
    "print(value)\n",
    "float(value)"
   ]
  },
  {
   "cell_type": "code",
   "execution_count": 21,
   "id": "6020aa67",
   "metadata": {},
   "outputs": [
    {
     "name": "stdout",
     "output_type": "stream",
     "text": [
      "-4\n"
     ]
    },
    {
     "data": {
      "text/plain": [
       "4"
      ]
     },
     "execution_count": 21,
     "metadata": {},
     "output_type": "execute_result"
    }
   ],
   "source": [
    "value=-4\n",
    "print(value)\n",
    "abs(value)"
   ]
  },
  {
   "cell_type": "code",
   "execution_count": 22,
   "id": "9d5859d6",
   "metadata": {},
   "outputs": [
    {
     "name": "stdout",
     "output_type": "stream",
     "text": [
      "-4\n"
     ]
    },
    {
     "data": {
      "text/plain": [
       "16"
      ]
     },
     "execution_count": 22,
     "metadata": {},
     "output_type": "execute_result"
    }
   ],
   "source": [
    "value=-4\n",
    "print(value)\n",
    "pow(value,2)"
   ]
  },
  {
   "cell_type": "code",
   "execution_count": 27,
   "id": "0a8fb387",
   "metadata": {},
   "outputs": [
    {
     "name": "stdout",
     "output_type": "stream",
     "text": [
      "ahmed\n"
     ]
    }
   ],
   "source": [
    "value=\"ahmed\"\n",
    "print(value)\n"
   ]
  },
  {
   "cell_type": "code",
   "execution_count": 31,
   "id": "2c8f99ee",
   "metadata": {},
   "outputs": [
    {
     "name": "stdout",
     "output_type": "stream",
     "text": [
      "b\n",
      ".\n",
      "e\n"
     ]
    }
   ],
   "source": [
    "batman='bruce.wayne'\n",
    "first=batman[0]\n",
    "print(first)\n",
    "dot=batman[5]\n",
    "print(dot)\n",
    "last=batman[-1]\n",
    "print(last)"
   ]
  },
  {
   "cell_type": "code",
   "execution_count": 33,
   "id": "83b2c404",
   "metadata": {},
   "outputs": [
    {
     "name": "stdout",
     "output_type": "stream",
     "text": [
      "sessi\n",
      "ssi\n"
     ]
    }
   ],
   "source": [
    "value='session 1 python'\n",
    "\n",
    "\n",
    "print(value[0:5])\n",
    "print(value[0:5:2])"
   ]
  },
  {
   "cell_type": "code",
   "execution_count": 50,
   "id": "2a5a8dac",
   "metadata": {},
   "outputs": [
    {
     "name": "stdout",
     "output_type": "stream",
     "text": [
      "    \n",
      "        this is my string\n",
      "t     \n",
      "True\n",
      "False\n"
     ]
    }
   ],
   "source": [
    "my_string=\"                this is my string\"\n",
    "print(my_string[0:4])\n",
    "print(my_string[8:len(my_string)])\n",
    "print(my_string[16:10:-1])\n",
    "n =\"s\" in my_string\n",
    "x= \"z\" in my_string\n",
    "print(n)\n",
    "print(x)"
   ]
  },
  {
   "cell_type": "code",
   "execution_count": 43,
   "id": "4b8c46ec",
   "metadata": {},
   "outputs": [
    {
     "data": {
      "text/plain": [
       "'THIS IS MY STRING'"
      ]
     },
     "execution_count": 43,
     "metadata": {},
     "output_type": "execute_result"
    }
   ],
   "source": [
    "my_string.upper()\n"
   ]
  },
  {
   "cell_type": "code",
   "execution_count": 44,
   "id": "71baf9d1",
   "metadata": {},
   "outputs": [
    {
     "data": {
      "text/plain": [
       "'this is my string'"
      ]
     },
     "execution_count": 44,
     "metadata": {},
     "output_type": "execute_result"
    }
   ],
   "source": [
    "my_string.lower()"
   ]
  },
  {
   "cell_type": "code",
   "execution_count": 48,
   "id": "f17f5068",
   "metadata": {},
   "outputs": [
    {
     "name": "stdout",
     "output_type": "stream",
     "text": [
      "8\n"
     ]
    }
   ],
   "source": [
    "f=my_string.find(\"m\")\n",
    "print(f)"
   ]
  },
  {
   "cell_type": "code",
   "execution_count": 49,
   "id": "c9291dcb",
   "metadata": {},
   "outputs": [
    {
     "data": {
      "text/plain": [
       "'this is my string'"
      ]
     },
     "execution_count": 49,
     "metadata": {},
     "output_type": "execute_result"
    }
   ],
   "source": [
    "my_string.strip()"
   ]
  },
  {
   "cell_type": "code",
   "execution_count": 66,
   "id": "86902609",
   "metadata": {},
   "outputs": [
    {
     "name": "stdout",
     "output_type": "stream",
     "text": [
      "q_value34\n",
      "Q_value is =  35\n"
     ]
    }
   ],
   "source": [
    "q_value = input(\"q_value\")\n",
    "q_value = int(q_value)\n",
    "Q_value = q_value+1\n",
    "\n",
    "print(\"Q_value is = \",Q_value)"
   ]
  }
 ],
 "metadata": {
  "kernelspec": {
   "display_name": "Python 3 (ipykernel)",
   "language": "python",
   "name": "python3"
  },
  "language_info": {
   "codemirror_mode": {
    "name": "ipython",
    "version": 3
   },
   "file_extension": ".py",
   "mimetype": "text/x-python",
   "name": "python",
   "nbconvert_exporter": "python",
   "pygments_lexer": "ipython3",
   "version": "3.11.5"
  }
 },
 "nbformat": 4,
 "nbformat_minor": 5
}
