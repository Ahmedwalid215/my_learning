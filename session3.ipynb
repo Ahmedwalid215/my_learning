{
 "cells": [
  {
   "cell_type": "code",
   "execution_count": 28,
   "id": "f179f703",
   "metadata": {},
   "outputs": [
    {
     "data": {
      "text/plain": [
       "'h'"
      ]
     },
     "execution_count": 28,
     "metadata": {},
     "output_type": "execute_result"
    }
   ],
   "source": [
    "d = {'simple_key':\"hello\"}\n",
    "d[\"simple_key\"][0]"
   ]
  },
  {
   "cell_type": "code",
   "execution_count": 19,
   "id": "81180591",
   "metadata": {},
   "outputs": [
    {
     "data": {
      "text/plain": [
       "'hello'"
      ]
     },
     "execution_count": 19,
     "metadata": {},
     "output_type": "execute_result"
    }
   ],
   "source": [
    "d = {'k1':{'k2':'hello'}}\n",
    "d[\"k1\"][\"k2\"]"
   ]
  },
  {
   "cell_type": "code",
   "execution_count": 49,
   "id": "6ef52e8c",
   "metadata": {},
   "outputs": [
    {
     "data": {
      "text/plain": [
       "'hello'"
      ]
     },
     "execution_count": 49,
     "metadata": {},
     "output_type": "execute_result"
    }
   ],
   "source": [
    "d = {'k1':[{'nest_key':['this is deep',['hello']]}]}\n",
    "d[\"k1\"][0]['nest_key'][1][0]"
   ]
  },
  {
   "cell_type": "code",
   "execution_count": 48,
   "id": "5193dcd3",
   "metadata": {},
   "outputs": [
    {
     "data": {
      "text/plain": [
       "'hello'"
      ]
     },
     "execution_count": 48,
     "metadata": {},
     "output_type": "execute_result"
    }
   ],
   "source": [
    "d = {'k1':[1,2,{'k2':['this is tricky',{'tough':[1,2,['hello']]}]}]}\n",
    "d['k1'][2]['k2'][1]['tough'][2][0]"
   ]
  },
  {
   "cell_type": "code",
   "execution_count": 51,
   "id": "19ad9b98",
   "metadata": {},
   "outputs": [
    {
     "name": "stdout",
     "output_type": "stream",
     "text": [
      "hello world\n",
      "hello world\n",
      "hello world\n"
     ]
    }
   ],
   "source": [
    "for i in range(0,3):\n",
    "      print(\"hello world\")"
   ]
  },
  {
   "cell_type": "code",
   "execution_count": 53,
   "id": "add1efc4",
   "metadata": {},
   "outputs": [
    {
     "data": {
      "text/plain": [
       "[0, 1, 2, 3, 4, 5, 6, 7, 8, 9, 10]"
      ]
     },
     "execution_count": 53,
     "metadata": {},
     "output_type": "execute_result"
    }
   ],
   "source": [
    "list( range(0,11))"
   ]
  },
  {
   "cell_type": "code",
   "execution_count": 54,
   "id": "42f30ae7",
   "metadata": {},
   "outputs": [
    {
     "data": {
      "text/plain": [
       "[0, 2, 4, 6, 8, 10]"
      ]
     },
     "execution_count": 54,
     "metadata": {},
     "output_type": "execute_result"
    }
   ],
   "source": [
    "list(range(0,11,2))"
   ]
  },
  {
   "cell_type": "code",
   "execution_count": 56,
   "id": "8c0078e2",
   "metadata": {},
   "outputs": [
    {
     "name": "stdout",
     "output_type": "stream",
     "text": [
      "(1, 2)\n",
      "(3, 4)\n",
      "(5, 6)\n"
     ]
    }
   ],
   "source": [
    "a=[(1,2),(3,4),(5,6)]\n",
    "for i in a :\n",
    "     print(i)"
   ]
  },
  {
   "cell_type": "code",
   "execution_count": 62,
   "id": "05e080e7",
   "metadata": {},
   "outputs": [
    {
     "name": "stdout",
     "output_type": "stream",
     "text": [
      "1\n",
      "2\n",
      "3\n",
      "4\n",
      "5\n",
      "6\n"
     ]
    }
   ],
   "source": [
    "for i in a :\n",
    "    print(i[0])\n",
    "    print(i[1])"
   ]
  },
  {
   "cell_type": "code",
   "execution_count": 63,
   "id": "a753a01b",
   "metadata": {},
   "outputs": [
    {
     "name": "stdout",
     "output_type": "stream",
     "text": [
      "1\n",
      "2\n",
      "3\n",
      "4\n",
      "5\n",
      "6\n"
     ]
    }
   ],
   "source": [
    "for (x,n) in a :\n",
    "    print(x)\n",
    "    print(n)\n"
   ]
  },
  {
   "cell_type": "code",
   "execution_count": 65,
   "id": "14a80811",
   "metadata": {},
   "outputs": [
    {
     "name": "stdout",
     "output_type": "stream",
     "text": [
      "c =  [1, 3, 5]\n",
      "d =  [2, 4, 6]\n"
     ]
    }
   ],
   "source": [
    "# list comprehension\n",
    "\n",
    "c = [i[0] for i in a]\n",
    "d = [i[1] for i in a]\n",
    "print (\"c = \", c)\n",
    "print (\"d = \",d)\n"
   ]
  },
  {
   "cell_type": "code",
   "execution_count": 67,
   "id": "774b9f28",
   "metadata": {},
   "outputs": [
    {
     "name": "stdout",
     "output_type": "stream",
     "text": [
      "number is 0\n",
      "number is 1\n",
      "number is 2\n",
      "number is 3\n",
      "number is 4\n",
      "number is 5\n",
      "number is 6\n",
      "number is 7\n",
      "number is 8\n",
      "number is 9\n"
     ]
    }
   ],
   "source": [
    "q = list(range(0,10))\n",
    "for i in q :\n",
    "    print(f'number is {i}')"
   ]
  },
  {
   "cell_type": "code",
   "execution_count": 69,
   "id": "f06a92bc",
   "metadata": {},
   "outputs": [
    {
     "name": "stdout",
     "output_type": "stream",
     "text": [
      "x is curently =  0\n",
      "x is curently =  1\n",
      "x is curently =  2\n",
      "x is curently =  3\n",
      "x is curently =  4\n",
      "x is curently =  5\n",
      "x is curently =  6\n",
      "x is curently =  7\n",
      "x is curently =  8\n",
      "x is curently =  9\n",
      "x is curently =  10\n"
     ]
    }
   ],
   "source": [
    "x = 0 \n",
    "\n",
    "while x <= 10 :\n",
    "\n",
    "    print(\"x is curently = \",x )\n",
    "    x+=1\n",
    "    "
   ]
  },
  {
   "cell_type": "code",
   "execution_count": 70,
   "id": "0e1e9159",
   "metadata": {},
   "outputs": [
    {
     "name": "stdout",
     "output_type": "stream",
     "text": [
      "x is curently =  0\n",
      "x is curently =  1\n",
      "x is curently =  2\n",
      "x is curently =  3\n",
      "x is curently =  4\n"
     ]
    }
   ],
   "source": [
    "x = 0 \n",
    "\n",
    "while x <= 10 :\n",
    "\n",
    "    print(\"x is curently = \",x )\n",
    "    x+=1\n",
    "    \n",
    "    if x == 5 :\n",
    "        break"
   ]
  },
  {
   "cell_type": "code",
   "execution_count": 80,
   "id": "10892005",
   "metadata": {},
   "outputs": [
    {
     "name": "stdout",
     "output_type": "stream",
     "text": [
      "please enter the number = 15\n",
      "Fizz Buzz\n"
     ]
    }
   ],
   "source": [
    "x = int(input(\"please enter the number = \"))\n",
    "\n",
    "if  x % 3 == 0 and x % 5 == 0 :\n",
    "    print (\"Fizz Buzz\")\n",
    "elif x % 5 == 0:\n",
    "    print (\"Buzz\")\n",
    "elif x % 3 == 0 :\n",
    "    print (\"Fizz \")\n",
    "else :\n",
    "    print (\"number = \",x)"
   ]
  },
  {
   "cell_type": "code",
   "execution_count": 86,
   "id": "01f4b4cb",
   "metadata": {},
   "outputs": [
    {
     "name": "stdout",
     "output_type": "stream",
     "text": [
      "1\n",
      "2\n",
      "Fizz \n",
      "4\n",
      "Buzz\n",
      "Fizz \n",
      "7\n",
      "8\n",
      "Fizz \n",
      "Buzz\n",
      "11\n",
      "Fizz \n",
      "13\n",
      "14\n",
      "Fizz Buzz\n",
      "16\n",
      "17\n",
      "Fizz \n",
      "19\n",
      "Buzz\n",
      "Fizz \n",
      "22\n",
      "23\n",
      "Fizz \n",
      "Buzz\n",
      "26\n",
      "Fizz \n",
      "28\n",
      "29\n",
      "Fizz Buzz\n",
      "31\n",
      "32\n",
      "Fizz \n",
      "34\n",
      "Buzz\n",
      "Fizz \n",
      "37\n",
      "38\n",
      "Fizz \n",
      "Buzz\n",
      "41\n",
      "Fizz \n",
      "43\n",
      "44\n",
      "Fizz Buzz\n",
      "46\n",
      "47\n",
      "Fizz \n",
      "49\n",
      "Buzz\n",
      "Fizz \n",
      "52\n",
      "53\n",
      "Fizz \n",
      "Buzz\n",
      "56\n",
      "Fizz \n",
      "58\n",
      "59\n",
      "Fizz Buzz\n",
      "61\n",
      "62\n",
      "Fizz \n",
      "64\n",
      "Buzz\n",
      "Fizz \n",
      "67\n",
      "68\n",
      "Fizz \n",
      "Buzz\n",
      "71\n",
      "Fizz \n",
      "73\n",
      "74\n",
      "Fizz Buzz\n",
      "76\n",
      "77\n",
      "Fizz \n",
      "79\n",
      "Buzz\n",
      "Fizz \n",
      "82\n",
      "83\n",
      "Fizz \n",
      "Buzz\n",
      "86\n",
      "Fizz \n",
      "88\n",
      "89\n",
      "Fizz Buzz\n",
      "91\n",
      "92\n",
      "Fizz \n",
      "94\n",
      "Buzz\n",
      "Fizz \n",
      "97\n",
      "98\n",
      "Fizz \n",
      "Buzz\n"
     ]
    }
   ],
   "source": [
    "for x in range(1 , 101):\n",
    "    if  x % 3 == 0 and x % 5 == 0 :\n",
    "        print (\"Fizz Buzz\")\n",
    "    elif x % 5 == 0:\n",
    "        print (\"Buzz\")\n",
    "    elif x % 3 == 0 :\n",
    "        print (\"Fizz \")\n",
    "    else :\n",
    "        print (x)"
   ]
  },
  {
   "cell_type": "code",
   "execution_count": 92,
   "id": "67b7a4c0",
   "metadata": {},
   "outputs": [
    {
     "name": "stdout",
     "output_type": "stream",
     "text": [
      "please write word :ahmed waled\n",
      "False\n"
     ]
    }
   ],
   "source": [
    "y = input(\"please write word :\")\n",
    "y_list = y.split()\n",
    "\n",
    "if y_list[0][0] == y_list[1][0] :\n",
    "    \n",
    "        print (\"True\")\n",
    "else :\n",
    "        print (\"False\")"
   ]
  },
  {
   "cell_type": "code",
   "execution_count": 3,
   "id": "f248d6dd",
   "metadata": {},
   "outputs": [],
   "source": [
    " def check(x) :\n",
    "    \n",
    "    if  x % 3 == 0 and x % 5 == 0 :\n",
    "        print (\"Fizz Buzz\")\n",
    "    elif x % 5 == 0:\n",
    "        print (\"Buzz\")\n",
    "    elif x % 3 == 0 :\n",
    "        print (\"Fizz \")\n",
    "    else :\n",
    "        print (x)"
   ]
  },
  {
   "cell_type": "code",
   "execution_count": 13,
   "id": "056608c9",
   "metadata": {},
   "outputs": [],
   "source": [
    "def add(n1,n2):\n",
    "    result = n1 + n2\n",
    "    return result"
   ]
  },
  {
   "cell_type": "code",
   "execution_count": 14,
   "id": "166be1ef",
   "metadata": {},
   "outputs": [
    {
     "data": {
      "text/plain": [
       "10"
      ]
     },
     "execution_count": 14,
     "metadata": {},
     "output_type": "execute_result"
    }
   ],
   "source": [
    "add(5,5)"
   ]
  },
  {
   "cell_type": "code",
   "execution_count": 20,
   "id": "3409785c",
   "metadata": {},
   "outputs": [],
   "source": [
    "def area_circle (r, pi_const = 22/7) :\n",
    "    area_of_circle = pi_const * (r**2)\n",
    "    return area_of_circle "
   ]
  },
  {
   "cell_type": "code",
   "execution_count": 21,
   "id": "fd02b0a9",
   "metadata": {},
   "outputs": [
    {
     "data": {
      "text/plain": [
       "12.571428571428571"
      ]
     },
     "execution_count": 21,
     "metadata": {},
     "output_type": "execute_result"
    }
   ],
   "source": [
    "area_circle(2)"
   ]
  },
  {
   "cell_type": "code",
   "execution_count": 94,
   "id": "d8f0d44a",
   "metadata": {},
   "outputs": [],
   "source": [
    "def addd(*args):\n",
    "    f = 0\n",
    "    for arg in args :\n",
    "        f+=arg\n",
    "    return f\n"
   ]
  },
  {
   "cell_type": "code",
   "execution_count": 95,
   "id": "09536fd6",
   "metadata": {},
   "outputs": [
    {
     "data": {
      "text/plain": [
       "20"
      ]
     },
     "execution_count": 95,
     "metadata": {},
     "output_type": "execute_result"
    }
   ],
   "source": [
    "addd(10,10)"
   ]
  },
  {
   "cell_type": "code",
   "execution_count": 69,
   "id": "bb72e429",
   "metadata": {},
   "outputs": [],
   "source": [
    "def employees_data(**kwargs):\n",
    "    print(kwargs['name'])\n",
    "    print(kwargs['age'])\n",
    "    print(kwargs['salary'])\n",
    "   "
   ]
  },
  {
   "cell_type": "code",
   "execution_count": 70,
   "id": "e5829ec0",
   "metadata": {},
   "outputs": [
    {
     "name": "stdout",
     "output_type": "stream",
     "text": [
      "ahmed\n",
      "25\n",
      "5000\n"
     ]
    }
   ],
   "source": [
    "employees_data(name = 'ahmed',age=25,salary =5000)"
   ]
  },
  {
   "cell_type": "code",
   "execution_count": 74,
   "id": "8401118d",
   "metadata": {},
   "outputs": [],
   "source": [
    "def power_2(num):\n",
    "    return num**2"
   ]
  },
  {
   "cell_type": "code",
   "execution_count": 72,
   "id": "5a125eb0",
   "metadata": {},
   "outputs": [],
   "source": [
    "my_list = [1,2,4,10]\n"
   ]
  },
  {
   "cell_type": "code",
   "execution_count": 76,
   "id": "753446fa",
   "metadata": {},
   "outputs": [
    {
     "data": {
      "text/plain": [
       "[1, 4, 16, 100]"
      ]
     },
     "execution_count": 76,
     "metadata": {},
     "output_type": "execute_result"
    }
   ],
   "source": [
    "out = []\n",
    "for i in my_list:\n",
    "    out.append(power_2(i))\n",
    "    \n",
    "out"
   ]
  },
  {
   "cell_type": "code",
   "execution_count": 77,
   "id": "5e1f17aa",
   "metadata": {},
   "outputs": [
    {
     "data": {
      "text/plain": [
       "[1, 4, 16, 100]"
      ]
     },
     "execution_count": 77,
     "metadata": {},
     "output_type": "execute_result"
    }
   ],
   "source": [
    "list(map(power_2,my_list))"
   ]
  },
  {
   "cell_type": "code",
   "execution_count": 78,
   "id": "ec6a274f",
   "metadata": {},
   "outputs": [],
   "source": [
    "def check_even(num):\n",
    "    return num % 2 ==0 "
   ]
  },
  {
   "cell_type": "code",
   "execution_count": 79,
   "id": "ed4d23c5",
   "metadata": {},
   "outputs": [
    {
     "data": {
      "text/plain": [
       "True"
      ]
     },
     "execution_count": 79,
     "metadata": {},
     "output_type": "execute_result"
    }
   ],
   "source": [
    "check_even(4)"
   ]
  },
  {
   "cell_type": "code",
   "execution_count": 80,
   "id": "4df2755e",
   "metadata": {},
   "outputs": [
    {
     "data": {
      "text/plain": [
       "[1, 2, 3, 4, 5, 6, 7, 8, 9, 10]"
      ]
     },
     "execution_count": 80,
     "metadata": {},
     "output_type": "execute_result"
    }
   ],
   "source": [
    "my_nums = list (range(1,11))\n",
    "my_nums"
   ]
  },
  {
   "cell_type": "code",
   "execution_count": 81,
   "id": "df4c5850",
   "metadata": {},
   "outputs": [
    {
     "data": {
      "text/plain": [
       "[False, True, False, True, False, True, False, True, False, True]"
      ]
     },
     "execution_count": 81,
     "metadata": {},
     "output_type": "execute_result"
    }
   ],
   "source": [
    "list(map(check_even,my_nums))"
   ]
  },
  {
   "cell_type": "code",
   "execution_count": 82,
   "id": "fdef221f",
   "metadata": {},
   "outputs": [
    {
     "data": {
      "text/plain": [
       "[2, 4, 6, 8, 10]"
      ]
     },
     "execution_count": 82,
     "metadata": {},
     "output_type": "execute_result"
    }
   ],
   "source": [
    "list(filter(check_even,my_nums))"
   ]
  },
  {
   "cell_type": "code",
   "execution_count": 83,
   "id": "2ef88a30",
   "metadata": {},
   "outputs": [],
   "source": [
    "def add(n1,n2):\n",
    "    result = n1 + n2\n",
    "    return result"
   ]
  },
  {
   "cell_type": "code",
   "execution_count": 84,
   "id": "cdb186bf",
   "metadata": {},
   "outputs": [
    {
     "data": {
      "text/plain": [
       "10"
      ]
     },
     "execution_count": 84,
     "metadata": {},
     "output_type": "execute_result"
    }
   ],
   "source": [
    "add(5,5)"
   ]
  },
  {
   "cell_type": "code",
   "execution_count": 90,
   "id": "0f74def9",
   "metadata": {},
   "outputs": [],
   "source": [
    "def add(*args) :\n",
    "    z = 0\n",
    "    for arg in args :\n",
    "        z+=arg\n",
    "    return z"
   ]
  },
  {
   "cell_type": "code",
   "execution_count": 96,
   "id": "191c6a69",
   "metadata": {},
   "outputs": [
    {
     "data": {
      "text/plain": [
       "35"
      ]
     },
     "execution_count": 96,
     "metadata": {},
     "output_type": "execute_result"
    }
   ],
   "source": [
    "add(5,10,10,10)"
   ]
  },
  {
   "cell_type": "code",
   "execution_count": 99,
   "id": "c0d028d2",
   "metadata": {},
   "outputs": [
    {
     "data": {
      "text/plain": [
       "10"
      ]
     },
     "execution_count": 99,
     "metadata": {},
     "output_type": "execute_result"
    }
   ],
   "source": [
    "#def add(n1,n2) :\n",
    " #   result = n1 + n2\n",
    "#    return result\n",
    "#add(5,5)"
   ]
  },
  {
   "cell_type": "code",
   "execution_count": 102,
   "id": "69a92b3e",
   "metadata": {},
   "outputs": [
    {
     "data": {
      "text/plain": [
       "10"
      ]
     },
     "execution_count": 102,
     "metadata": {},
     "output_type": "execute_result"
    }
   ],
   "source": [
    "#def add(n1,n2) :\n",
    "#    return n1 + n2\n",
    "#add(5,5)"
   ]
  },
  {
   "cell_type": "code",
   "execution_count": 105,
   "id": "bf3a3788",
   "metadata": {},
   "outputs": [
    {
     "data": {
      "text/plain": [
       "10"
      ]
     },
     "execution_count": 105,
     "metadata": {},
     "output_type": "execute_result"
    }
   ],
   "source": [
    "#def add(n1,n2) : return n1 + n2\n",
    "#add(5,5)"
   ]
  },
  {
   "cell_type": "code",
   "execution_count": 106,
   "id": "d712cd46",
   "metadata": {},
   "outputs": [
    {
     "data": {
      "text/plain": [
       "10"
      ]
     },
     "execution_count": 106,
     "metadata": {},
     "output_type": "execute_result"
    }
   ],
   "source": [
    "add = lambda n1 , n2 : n1 + n2\n",
    "add(5,5)"
   ]
  },
  {
   "cell_type": "code",
   "execution_count": 108,
   "id": "dc1ccef6",
   "metadata": {},
   "outputs": [
    {
     "data": {
      "text/plain": [
       "29"
      ]
     },
     "execution_count": 108,
     "metadata": {},
     "output_type": "execute_result"
    }
   ],
   "source": [
    "add(12,17)"
   ]
  },
  {
   "cell_type": "code",
   "execution_count": 109,
   "id": "ae8a8ffc",
   "metadata": {},
   "outputs": [
    {
     "name": "stdout",
     "output_type": "stream",
     "text": [
      "6\n"
     ]
    }
   ],
   "source": [
    "high_order_func = lambda x , function_1 : x + function_1(x)\n",
    "print(high_order_func(2, lambda x : x * x))\n"
   ]
  },
  {
   "cell_type": "code",
   "execution_count": 133,
   "id": "39c85858",
   "metadata": {},
   "outputs": [],
   "source": [
    "def factorial(x):\n",
    "    if x < 0 :\n",
    "        print(\"x is undefined\")\n",
    "    elif x == 0 or x == 1 :\n",
    "        return 1\n",
    "    else :\n",
    "        return x * factorial(x-1)"
   ]
  },
  {
   "cell_type": "code",
   "execution_count": 143,
   "id": "f8844a5b",
   "metadata": {},
   "outputs": [
    {
     "data": {
      "text/plain": [
       "24"
      ]
     },
     "execution_count": 143,
     "metadata": {},
     "output_type": "execute_result"
    }
   ],
   "source": [
    "factorial(4)"
   ]
  },
  {
   "cell_type": "code",
   "execution_count": 152,
   "id": "f61d99e6",
   "metadata": {},
   "outputs": [
    {
     "name": "stdout",
     "output_type": "stream",
     "text": [
      "please check value\n",
      "done all cases\n"
     ]
    }
   ],
   "source": [
    "x = 3 \n",
    "try:\n",
    "    print(s)\n",
    "except:\n",
    "    print(\"please check value\")\n",
    "else :\n",
    "    print(\"no error\")\n",
    "finally :\n",
    "    print(\"done all cases\")"
   ]
  },
  {
   "cell_type": "code",
   "execution_count": 158,
   "id": "99b0ce88",
   "metadata": {},
   "outputs": [
    {
     "name": "stdout",
     "output_type": "stream",
     "text": [
      "['{\\n', ' \"cells\": [\\n', '  {\\n', '   \"cell_type\": \"code\",\\n', '   \"execution_count\": 2,\\n', '   \"metadata\": {},\\n', '   \"outputs\": [\\n', '    {\\n', '     \"name\": \"stdout\",\\n', '     \"output_type\": \"stream\",\\n', '     \"text\": [\\n', '      \"List :  [\\'1\\', \\'3\\', \\'5\\', \\'7\\', \\'9\\', \\'0\\']\\\\n\",\\n', '      \"Tuple :  (\\'1\\', \\'3\\', \\'5\\', \\'7\\', \\'9\\', \\'0\\')\\\\n\"\\n', '     ]\\n', '    }\\n', '   ],\\n', '   \"source\": [\\n', '    \"values = input(\\\\\"Input some comma seprated numbers : \\\\\")\\\\n\",\\n', '    \"list_value = values.split(\\\\\",\\\\\")\\\\n\",\\n', '    \"tuple_value = tuple(list_value)\\\\n\",\\n', '    \"print(\\'List : \\',list_value)\\\\n\",\\n', '    \"print(\\'Tuple : \\',tuple_value)\"\\n', '   ]\\n', '  },\\n', '  {\\n', '   \"cell_type\": \"code\",\\n', '   \"execution_count\": 1,\\n', '   \"metadata\": {},\\n', '   \"outputs\": [\\n', '    {\\n', '     \"name\": \"stdout\",\\n', '     \"output_type\": \"stream\",\\n', '     \"text\": [\\n', '      \"The Gravitational Force is:  0.33 N\\\\n\"\\n', '     ]\\n', '    }\\n', '   ],\\n', '   \"source\": [\\n', '    \"# Python3 code to find Gravitational Force\\\\n\",\\n', '    \"def force(m1, m2, r):\\\\n\",\\n', '    \"\\\\tG = 6.673*(10**-11)\\\\n\",\\n', '    \"\\\\tF = (G*m1*m2)/(r**2)\\\\n\",\\n', '    \"\\\\n\",\\n', '    \"\\\\t# Rounding to two digits after decimal\\\\n\",\\n', '    \"\\\\treturn round(F, 2)\\\\n\",\\n', '    \"\\\\n\",\\n', '    \"# Driver Code\\\\n\",\\n', '    \"m1 = 5000000\\\\n\",\\n', '    \"m2 = 900000\\\\n\",\\n', '    \"r = 30\\\\n\",\\n', '    \"print(\\\\\"The Gravitational Force is: \\\\\", force(m1, m2, r), \\\\\"N\\\\\")\\\\n\"\\n', '   ]\\n', '  },\\n', '  {\\n', '   \"cell_type\": \"code\",\\n', '   \"execution_count\": 5,\\n', '   \"metadata\": {},\\n', '   \"outputs\": [\\n', '    {\\n', '     \"name\": \"stdout\",\\n', '     \"output_type\": \"stream\",\\n', '     \"text\": [\\n', '      \"The Gravitational Force is:  2.13536e-11\\\\n\"\\n', '     ]\\n', '    }\\n', '   ],\\n', '   \"source\": [\\n', '    \"m1 = int(input(\\\\\"m2 value : \\\\\"))\\\\n\",\\n', '    \"m2 = int(input(\\\\\"m1 vlaue : \\\\\"))\\\\n\",\\n', '    \"r = int(input(\\\\\"r value : \\\\\"))\\\\n\",\\n', '    \"gravitational_force = force(m1, m2, r)\\\\n\",\\n', '    \"G = 6.673*(10**-11)\\\\n\",\\n', '    \"\\\\n\",\\n', '    \"F = (G*m1*m2)/(r**2)\\\\n\",\\n', '    \"\\\\n\",\\n', '    \"print( \\\\\"The Gravitational Force is: \\\\\",F)\"\\n', '   ]\\n', '  },\\n', '  {\\n', '   \"cell_type\": \"code\",\\n', '   \"execution_count\": 12,\\n', '   \"metadata\": {},\\n', '   \"outputs\": [\\n', '    {\\n', '     \"name\": \"stdout\",\\n', '     \"output_type\": \"stream\",\\n', '     \"text\": [\\n', '      \"Hello ,Worl,d             \\\\n\"\\n', '     ]\\n', '    },\\n', '    {\\n', '     \"data\": {\\n', '      \"text/plain\": [\\n', '       \"[\\'Hello\\', \\',Worl,d\\']\"\\n', '      ]\\n', '     },\\n', '     \"execution_count\": 12,\\n', '     \"metadata\": {},\\n', '     \"output_type\": \"execute_result\"\\n', '    }\\n', '   ],\\n', '   \"source\": [\\n', '    \"x = \\'Hello ,Worl,d             \\'\\\\n\",\\n', '    \"print(x)\\\\n\",\\n', '    \"\\\\n\",\\n', '    \"x.split()\"\\n', '   ]\\n', '  }\\n', ' ],\\n', ' \"metadata\": {\\n', '  \"kernelspec\": {\\n', '   \"display_name\": \"Python 3 (ipykernel)\",\\n', '   \"language\": \"python\",\\n', '   \"name\": \"python3\"\\n', '  },\\n', '  \"language_info\": {\\n', '   \"codemirror_mode\": {\\n', '    \"name\": \"ipython\",\\n', '    \"version\": 3\\n', '   },\\n', '   \"file_extension\": \".py\",\\n', '   \"mimetype\": \"text/x-python\",\\n', '   \"name\": \"python\",\\n', '   \"nbconvert_exporter\": \"python\",\\n', '   \"pygments_lexer\": \"ipython3\",\\n', '   \"version\": \"3.11.5\"\\n', '  },\\n', '  \"vscode\": {\\n', '   \"interpreter\": {\\n', '    \"hash\": \"5587188a959c3ccd3fd412a5dab4879f6f5ada480ba17066fb39bd064b98cf14\"\\n', '   }\\n', '  }\\n', ' },\\n', ' \"nbformat\": 4,\\n', ' \"nbformat_minor\": 2\\n', '}\\n']\n",
      "\n"
     ]
    }
   ],
   "source": [
    "f = open(\"Tasks.ipynb\",'r')\n",
    "print(f.readlines())\n",
    "print(f.read())\n",
    "f.close()"
   ]
  },
  {
   "cell_type": "code",
   "execution_count": 159,
   "id": "8859f7b2",
   "metadata": {},
   "outputs": [],
   "source": [
    "f = open(\"Tasks1.txt\",'a')\n",
    "f.write(\"hello\")\n",
    "f.close()"
   ]
  },
  {
   "cell_type": "code",
   "execution_count": 167,
   "id": "85805074",
   "metadata": {},
   "outputs": [],
   "source": [
    "f = open(\"Tasks1.txt\",'w')\n",
    "for i in range(50) :\n",
    "    f.write(f\"\\n hello{i}\")\n",
    "f.close()"
   ]
  },
  {
   "cell_type": "code",
   "execution_count": 177,
   "id": "c33feb3f",
   "metadata": {},
   "outputs": [
    {
     "name": "stdout",
     "output_type": "stream",
     "text": [
      "\n",
      " hello0\n",
      " hello1\n",
      " hello2\n",
      " hello3\n",
      " hello4\n",
      " hello5\n",
      " hello6\n",
      " hello7\n",
      " hello8\n",
      " hello9\n",
      " hello10\n",
      " hello11\n",
      " hello12\n",
      " hello13\n",
      " hello14\n",
      " hello15\n",
      " hello16\n",
      " hello17\n",
      " hello18\n",
      " hello19\n",
      " hello20\n",
      " hello21\n",
      " hello22\n",
      " hello23\n",
      " hello24\n",
      " hello25\n",
      " hello26\n",
      " hello27\n",
      " hello28\n",
      " hello29\n",
      " hello30\n",
      " hello31\n",
      " hello32\n",
      " hello33\n",
      " hello34\n",
      " hello35\n",
      " hello36\n",
      " hello37\n",
      " hello38\n",
      " hello39\n",
      " hello40\n",
      " hello41\n",
      " hello42\n",
      " hello43\n",
      " hello44\n",
      " hello45\n",
      " hello46\n",
      " hello47\n",
      " hello48\n",
      " hello49\n"
     ]
    }
   ],
   "source": [
    "f = open(\"Tasks1.txt\",'r')\n",
    "print(f.read())\n",
    "f.close()"
   ]
  },
  {
   "cell_type": "code",
   "execution_count": 195,
   "id": "1586ed94",
   "metadata": {},
   "outputs": [
    {
     "data": {
      "text/plain": [
       "13"
      ]
     },
     "execution_count": 195,
     "metadata": {},
     "output_type": "execute_result"
    }
   ],
   "source": [
    "import random as x\n",
    "\n",
    "x.randint(1,15)"
   ]
  },
  {
   "cell_type": "code",
   "execution_count": 252,
   "id": "4e2d9d2e",
   "metadata": {},
   "outputs": [
    {
     "name": "stdout",
     "output_type": "stream",
     "text": [
      "\n",
      " pleaser enter first name :ahmed\n",
      "\n",
      " pleaser enter last name :walid\n",
      "\n",
      " pleaser enter gender name :male\n",
      "please enter your id :215\n"
     ]
    }
   ],
   "source": [
    "f = open(\"Tasks1.txt\",'w')\n",
    "f.write(input(\"\\n pleaser enter first name :\"))\n",
    "f.write(\" ----- \")\n",
    "f.write(input(\"\\n pleaser enter last name :\")) \n",
    "f.write(\" ----- \")\n",
    "f.write(input(\"\\n pleaser enter gender name :\"))\n",
    "f.write(\" ----- \")\n",
    "id_3num = input(\"please enter your id :\") \n",
    "f.write(str(id_3num))\n",
    "f.close()"
   ]
  },
  {
   "cell_type": "code",
   "execution_count": 258,
   "id": "f3b058d9",
   "metadata": {},
   "outputs": [],
   "source": [
    "def userInfo(FName):\n",
    "    FirstName = input(\"Please Enter your First Name : \")\n",
    "    SecondName = input(\"Please Enter your Second Name : \")\n",
    "    Gender = input(\"Please Enter your Gender (Male OR Female) : \")\n",
    "    ID = int(input(\"Please Enter Your ID (3 Numbers) ONLY : \"))\n",
    "    Info = [FirstName ,'\\n' , SecondName , '\\n', Gender , '\\n', str(ID)]\n",
    "    \n",
    "    with open(FName ,'w') as f : \n",
    "        for I in Info :\n",
    "            f.write(I)\n",
    "            \n",
    "    with open (FName , 'r') as r :\n",
    "        print (r.readlines())\n",
    "        \n",
    "userInfo(\"Tasks1.txt\")"
   ]
  },
  {
   "cell_type": "code",
   "execution_count": 265,
   "id": "9e0751cf",
   "metadata": {},
   "outputs": [
    {
     "name": "stdout",
     "output_type": "stream",
     "text": [
      "Please Enter your First Name : ahmed\n",
      "Please Enter your Second Name : walid\n",
      "Please Enter your Gender (Male OR Female) : male\n",
      "Please Enter Your ID (3 Numbers) ONLY : 123\n",
      "['ahmed\\n', 'walid\\n', 'male\\n', '123']\n"
     ]
    }
   ],
   "source": [
    "def userInfo(Tasks1):\n",
    "    FirstName = input(\"Please Enter your First Name : \")\n",
    "    SecondName = input(\"Please Enter your Second Name : \")\n",
    "    Gender = input(\"Please Enter your Gender (Male OR Female) : \")\n",
    "    ID = int(input(\"Please Enter Your ID (3 Numbers) ONLY : \"))\n",
    "    Info = [FirstName ,'\\n' , SecondName , '\\n', Gender , '\\n', str(ID)]\n",
    "    \n",
    "    with open(Tasks1 ,'w') as f : \n",
    "        for I in Info :\n",
    "            f.write(I)\n",
    "            \n",
    "    with open (Tasks1 , 'r') as r :\n",
    "        print (r.readlines())\n",
    "        \n",
    "userInfo(\"Tasks1\")"
   ]
  },
  {
   "cell_type": "code",
   "execution_count": null,
   "id": "b4b323ac",
   "metadata": {},
   "outputs": [],
   "source": []
  },
  {
   "cell_type": "code",
   "execution_count": null,
   "id": "60cad8e6",
   "metadata": {},
   "outputs": [],
   "source": []
  },
  {
   "cell_type": "code",
   "execution_count": null,
   "id": "ea555765",
   "metadata": {},
   "outputs": [],
   "source": []
  },
  {
   "cell_type": "code",
   "execution_count": null,
   "id": "d7fc16b8",
   "metadata": {},
   "outputs": [],
   "source": []
  }
 ],
 "metadata": {
  "kernelspec": {
   "display_name": "Python 3 (ipykernel)",
   "language": "python",
   "name": "python3"
  },
  "language_info": {
   "codemirror_mode": {
    "name": "ipython",
    "version": 3
   },
   "file_extension": ".py",
   "mimetype": "text/x-python",
   "name": "python",
   "nbconvert_exporter": "python",
   "pygments_lexer": "ipython3",
   "version": "3.11.5"
  }
 },
 "nbformat": 4,
 "nbformat_minor": 5
}
