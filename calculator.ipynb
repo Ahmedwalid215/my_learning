{
 "cells": [
  {
   "cell_type": "code",
   "execution_count": 21,
   "id": "0f3d0c9c",
   "metadata": {},
   "outputs": [
    {
     "name": "stdout",
     "output_type": "stream",
     "text": [
      "select operation :\n",
      "1.Add\n",
      "2.subtract\n",
      "3.multiply\n",
      "4.divided\n",
      "enter your choice (1/2/3/4) : 1\n",
      "enter first number :5\n",
      "enter second number :6\n",
      "5.0 + 6.0 = 11.0\n",
      "Do you want another operation (yes/no):yes\n",
      "select operation :\n",
      "1.Add\n",
      "2.subtract\n",
      "3.multiply\n",
      "4.divided\n",
      "enter your choice (1/2/3/4) : 2\n",
      "enter first number :100\n",
      "enter second number :100\n",
      "100.0 - 100.0 = 0.0\n",
      "Do you want another operation (yes/no):no\n",
      "Thank you\n"
     ]
    }
   ],
   "source": [
    "while True :\n",
    "    print(\"select operation :\")\n",
    "    print(\"1.Add\")\n",
    "    print(\"2.subtract\")\n",
    "    print(\"3.multiply\")\n",
    "    print(\"4.divided\")\n",
    "\n",
    "    choice = input(\"enter your choice (1/2/3/4) : \")\n",
    "    \n",
    "    if choice in ('1','2','3','4'):\n",
    "        try :\n",
    "            num_1 = float(input(\"enter first number :\"))\n",
    "            num_2 = float(input(\"enter second number :\"))\n",
    "        except valueErorr:\n",
    "            print(\"invalid number\")\n",
    "            continue\n",
    "            \n",
    "    if  choice == '1' :\n",
    "        from functions import add_func\n",
    "        print(num_1,\"+\",num_2 ,\"=\",add_func(num_1,num_2))\n",
    "        \n",
    "    elif choice == '2' :\n",
    "        from functions import sub_func\n",
    "        print(num_1,\"-\",num_2, \"=\",sub_func(num_1,num_2)) \n",
    "        \n",
    "    elif choice == '3' :\n",
    "        from functions import mult_func\n",
    "        print(num_1,'*',num_2, '=',mult_func(num_1,num_2))\n",
    "            \n",
    "    elif choice == '4' :\n",
    "        from functions import div_func\n",
    "        print(num_1,'/',num_2, '=',div_func(num_1,num_2))\n",
    "            \n",
    "    next_calculation = input(\"Do you want another operation (yes/no):\") \n",
    "    \n",
    "    if next_calculation == 'yes':\n",
    "        continue\n",
    "        \n",
    "    else :\n",
    "        print(\"Thank you\")\n",
    "        \n",
    "    break"
   ]
  },
  {
   "cell_type": "code",
   "execution_count": null,
   "id": "6cc606ea",
   "metadata": {},
   "outputs": [],
   "source": []
  }
 ],
 "metadata": {
  "kernelspec": {
   "display_name": "Python 3 (ipykernel)",
   "language": "python",
   "name": "python3"
  },
  "language_info": {
   "codemirror_mode": {
    "name": "ipython",
    "version": 3
   },
   "file_extension": ".py",
   "mimetype": "text/x-python",
   "name": "python",
   "nbconvert_exporter": "python",
   "pygments_lexer": "ipython3",
   "version": "3.11.5"
  }
 },
 "nbformat": 4,
 "nbformat_minor": 5
}
