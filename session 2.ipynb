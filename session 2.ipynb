{
 "cells": [
  {
   "cell_type": "code",
   "execution_count": 2,
   "id": "3260b28e",
   "metadata": {},
   "outputs": [
    {
     "name": "stdout",
     "output_type": "stream",
     "text": [
      "my name is ahmed and my age is 26\n"
     ]
    }
   ],
   "source": [
    "name = 'ahmed'\n",
    "age = 26\n",
    "print(\"my name is {} and my age is {}\".format(name,age))"
   ]
  },
  {
   "cell_type": "code",
   "execution_count": 3,
   "id": "6ef46f19",
   "metadata": {},
   "outputs": [
    {
     "name": "stdout",
     "output_type": "stream",
     "text": [
      "my name is ahmed and my age is 26\n"
     ]
    }
   ],
   "source": [
    "name = 'ahmed'\n",
    "age = 26\n",
    "print(f\"my name is {name} and my age is {age}\")"
   ]
  },
  {
   "cell_type": "code",
   "execution_count": 4,
   "id": "bf52eb48",
   "metadata": {
    "scrolled": true
   },
   "outputs": [
    {
     "name": "stdout",
     "output_type": "stream",
     "text": [
      "welcome to \"egypt\"\n"
     ]
    }
   ],
   "source": [
    "print(\"welcome to \\\"egypt\\\"\")"
   ]
  },
  {
   "cell_type": "code",
   "execution_count": 25,
   "id": "a1d1666f",
   "metadata": {},
   "outputs": [
    {
     "data": {
      "text/plain": [
       "1"
      ]
     },
     "execution_count": 25,
     "metadata": {},
     "output_type": "execute_result"
    }
   ],
   "source": [
    "a = 11\n",
    "b = 2\n",
    "c= a%b \n",
    "c"
   ]
  },
  {
   "cell_type": "code",
   "execution_count": 38,
   "id": "dac75078",
   "metadata": {},
   "outputs": [
    {
     "name": "stdout",
     "output_type": "stream",
     "text": [
      "please enter the value of G = 6.67\n",
      "G =   6.67e-11\n",
      "please enter the value of M_earth = 6\n",
      "M_earth =   6e+24\n",
      "please enter the value of m_moon = 7.34\n",
      "m_moon =   7.34e+22\n",
      "please enter the value of r = 3.84\n",
      "r =   384000000.0\n",
      "the value of F_G =  1.9920979817708333e+20\n"
     ]
    }
   ],
   "source": [
    "    G = float(input(\"please enter the value of G = \"))\n",
    "    G = G*(10**-11)\n",
    "    print(\"G =  \",G)\n",
    "    M_earth = float(input(\"please enter the value of M_earth = \"))\n",
    "    M_earth = M_earth*(10**24)\n",
    "    print(\"M_earth =  \",M_earth)\n",
    "    m_moon = float(input(\"please enter the value of m_moon = \"))\n",
    "    m_moon = m_moon*(10**22)\n",
    "    print(\"m_moon =  \", m_moon)\n",
    "    r = float(input(\"please enter the value of r = \"))\n",
    "    r=r*(10**8)\n",
    "    print(\"r =  \",r)\n",
    "    F_G = (G * M_earth * m_moon)/r**2\n",
    "    print ( \"the value of F_G = \",F_G)\n",
    "    "
   ]
  },
  {
   "cell_type": "code",
   "execution_count": 43,
   "id": "8aafb749",
   "metadata": {},
   "outputs": [
    {
     "name": "stdout",
     "output_type": "stream",
     "text": [
      "y is  <class 'list'>\n"
     ]
    },
    {
     "data": {
      "text/plain": [
       "3"
      ]
     },
     "execution_count": 43,
     "metadata": {},
     "output_type": "execute_result"
    }
   ],
   "source": [
    "x=[2,3,5]\n",
    "y=type(x)\n",
    "print(\"y is \",y)\n",
    "len(x)"
   ]
  },
  {
   "cell_type": "code",
   "execution_count": 73,
   "id": "3135c101",
   "metadata": {},
   "outputs": [
    {
     "data": {
      "text/plain": [
       "[3, 3, 2, 1, 6, 8, 3]"
      ]
     },
     "execution_count": 73,
     "metadata": {},
     "output_type": "execute_result"
    }
   ],
   "source": [
    "x1=[3,3,2,1]\n",
    "x2=[6,8,3]\n",
    "#x1.append(12)\n",
    "#x1.insert(2,10)\n",
    "#x1.remove(3)\n",
    "#x1.pop(2)\n",
    "#x1.clear()\n",
    "x1.extend(x2)\n",
    "x1"
   ]
  },
  {
   "cell_type": "code",
   "execution_count": 95,
   "id": "d9279d3d",
   "metadata": {},
   "outputs": [
    {
     "data": {
      "text/plain": [
       "(2, 3, 4, 2, 5, 2, 3, 4, 2, 5, 2, 3, 4, 2, 5)"
      ]
     },
     "execution_count": 95,
     "metadata": {},
     "output_type": "execute_result"
    }
   ],
   "source": [
    "z=(2,3,4,2)\n",
    "\n",
    "z=list(z)\n",
    "z.append(5)\n",
    "z=tuple(z)\n",
    "#type(z)\n",
    "#z.index(4)\n",
    "#z*2\n",
    "z.count(2)\n",
    "z_new = z*3\n",
    "z_new"
   ]
  },
  {
   "cell_type": "code",
   "execution_count": 96,
   "id": "ac644dd1",
   "metadata": {},
   "outputs": [
    {
     "data": {
      "text/plain": [
       "{2, 3, 4, 5}"
      ]
     },
     "execution_count": 96,
     "metadata": {},
     "output_type": "execute_result"
    }
   ],
   "source": [
    "set(z_new)"
   ]
  },
  {
   "cell_type": "code",
   "execution_count": 123,
   "id": "19981d0d",
   "metadata": {
    "scrolled": true
   },
   "outputs": [
    {
     "name": "stdout",
     "output_type": "stream",
     "text": [
      "x1={1, 3, 4, 5, 6},x2={0, 1, 2, 5, 8}\n",
      "            \n",
      "x1={1, 3, 4, 5, 6, 12},x2={0, 1, 2, 5, 8, 15}\n",
      "           \n",
      "x1={1, 2, 3, 4, 5, 6, 7, 8, 9, 12},x2={0, 1, 2, 3, 4, 5, 6, 7, 8, 9, 15}\n",
      "           \n",
      "x1={1, 2, 3, 4, 5, 6, 7, 8, 9},x2={0, 1, 2, 3, 4, 5, 6, 7, 8, 9}\n",
      "           \n",
      "x1={1, 2, 3, 4, 5, 6, 7, 8, 9},x2={0, 1, 2, 3, 4, 5, 6, 7, 8, 9},x3={0, 1, 2, 3, 4, 5, 6, 7, 8, 9}\n",
      "           \n",
      "x1={1, 2, 3, 4, 5, 6, 7, 8, 9},x2={0, 1, 2, 3, 4, 5, 6, 7, 8, 9},x3={0, 1, 2, 3, 4, 5, 6, 7, 8, 9},x4={1, 2, 3, 4, 5, 6, 7, 8, 9}\n",
      "           \n"
     ]
    }
   ],
   "source": [
    "x1=[1,5,5,3,6,4,4,5,6] \n",
    "x2=[1,0,2,5,5,5,0,2,8]\n",
    "x1=set(x1)\n",
    "x2=set(x2)\n",
    "print(f\"x1={x1},x2={x2}\")\n",
    "print(\"            \")\n",
    "x1.add(12)\n",
    "x2.add(15)\n",
    "print(f\"x1={x1},x2={x2}\")\n",
    "print(\"           \")\n",
    "x1.update([1,2,3,4,5,6,7,8,9])\n",
    "x2.update([1,2,3,4,5,6,7,8,9])\n",
    "print(f\"x1={x1},x2={x2}\")\n",
    "print(\"           \")\n",
    "x1.remove(12)\n",
    "x2.remove(15)\n",
    "print(f\"x1={x1},x2={x2}\")\n",
    "print(\"           \")\n",
    "x3=x1.union(x2)\n",
    "print(f\"x1={x1},x2={x2},x3={x3}\")\n",
    "print(\"           \")\n",
    "x4=x1.intersection(x2)\n",
    "print(f\"x1={x1},x2={x2},x3={x3},x4={x4}\")\n",
    "print(\"           \")"
   ]
  },
  {
   "cell_type": "code",
   "execution_count": 124,
   "id": "5b94553c",
   "metadata": {},
   "outputs": [
    {
     "data": {
      "text/plain": [
       "dict"
      ]
     },
     "execution_count": 124,
     "metadata": {},
     "output_type": "execute_result"
    }
   ],
   "source": [
    "x=dict()\n",
    "x={}\n",
    "type(x)"
   ]
  },
  {
   "cell_type": "code",
   "execution_count": 126,
   "id": "3c6c9153",
   "metadata": {},
   "outputs": [
    {
     "data": {
      "text/plain": [
       "{'key1': 'value1', 'key2': 'value2'}"
      ]
     },
     "execution_count": 126,
     "metadata": {},
     "output_type": "execute_result"
    }
   ],
   "source": [
    "x={\"key1\":\"value1\",\"key2\":\"value2\"}\n",
    "x"
   ]
  },
  {
   "cell_type": "code",
   "execution_count": 143,
   "id": "ef1fd978",
   "metadata": {},
   "outputs": [
    {
     "data": {
      "text/plain": [
       "{'key1': 'value1', 'key2': 'value2', 'x': {'key3': 'value3'}}"
      ]
     },
     "execution_count": 143,
     "metadata": {},
     "output_type": "execute_result"
    }
   ],
   "source": [
    "x.get(\"key1\")\n",
    "x.keys()\n",
    "x.values()\n",
    "x.items()\n",
    "x.update(x={\"key3\":\"value3\"})\n",
    "x\n"
   ]
  },
  {
   "cell_type": "code",
   "execution_count": 155,
   "id": "45a9cc9f",
   "metadata": {},
   "outputs": [
    {
     "name": "stdout",
     "output_type": "stream",
     "text": [
      "please enter numbers separated by comma :1,1,2,2,3,3\n",
      "y_list =  ['1', '1', '2', '2', '3', '3']\n",
      "y_tuple =  ('1', '1', '2', '2', '3', '3')\n",
      "y_set =  {'1', '2', '3'}\n"
     ]
    }
   ],
   "source": [
    "y= (input(\"please enter numbers separated by comma :\"))\n",
    "y_list = y.split(\",\")\n",
    "print (\"y_list = \",y_list)\n",
    "y_tuple = tuple(y_list)\n",
    "print(\"y_tuple = \",y_tuple)\n",
    "y_set = set(y_list)\n",
    "print(\"y_set = \",y_set)"
   ]
  },
  {
   "cell_type": "code",
   "execution_count": 160,
   "id": "978cf90a",
   "metadata": {},
   "outputs": [
    {
     "name": "stdout",
     "output_type": "stream",
     "text": [
      "a is equal b\n"
     ]
    }
   ],
   "source": [
    "a=1000\n",
    "b=1000\n",
    "if a>b :\n",
    "    print(\"a is greater than b\")\n",
    "elif a==b :\n",
    "    print(\"a is equal b\")\n",
    "else :\n",
    "    print(\"b is grater than a\")"
   ]
  },
  {
   "cell_type": "code",
   "execution_count": null,
   "id": "dbc65d53",
   "metadata": {},
   "outputs": [],
   "source": []
  },
  {
   "cell_type": "code",
   "execution_count": null,
   "id": "37be12ef",
   "metadata": {},
   "outputs": [],
   "source": []
  },
  {
   "cell_type": "code",
   "execution_count": null,
   "id": "c97a2785",
   "metadata": {},
   "outputs": [],
   "source": []
  }
 ],
 "metadata": {
  "kernelspec": {
   "display_name": "Python 3 (ipykernel)",
   "language": "python",
   "name": "python3"
  },
  "language_info": {
   "codemirror_mode": {
    "name": "ipython",
    "version": 3
   },
   "file_extension": ".py",
   "mimetype": "text/x-python",
   "name": "python",
   "nbconvert_exporter": "python",
   "pygments_lexer": "ipython3",
   "version": "3.11.5"
  }
 },
 "nbformat": 4,
 "nbformat_minor": 5
}
